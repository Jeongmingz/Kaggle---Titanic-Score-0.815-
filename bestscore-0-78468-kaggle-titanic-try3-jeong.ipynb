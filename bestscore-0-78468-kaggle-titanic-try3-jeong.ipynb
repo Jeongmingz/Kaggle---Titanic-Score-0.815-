{
 "cells": [
  {
   "cell_type": "code",
   "execution_count": 1,
   "id": "12819516",
   "metadata": {
    "execution": {
     "iopub.execute_input": "2023-01-08T07:54:47.326867Z",
     "iopub.status.busy": "2023-01-08T07:54:47.326337Z",
     "iopub.status.idle": "2023-01-08T07:54:48.524750Z",
     "shell.execute_reply": "2023-01-08T07:54:48.523639Z"
    },
    "papermill": {
     "duration": 1.211391,
     "end_time": "2023-01-08T07:54:48.527444",
     "exception": false,
     "start_time": "2023-01-08T07:54:47.316053",
     "status": "completed"
    },
    "tags": []
   },
   "outputs": [],
   "source": [
    "import numpy as np\n",
    "import pandas as pd\n",
    "\n",
    "import matplotlib.pyplot as plt\n",
    "%matplotlib inline\n",
    "import seaborn as sns\n",
    "\n",
    "from sklearn import metrics\n",
    "from sklearn.svm import SVC, LinearSVC\n",
    "from sklearn.tree import DecisionTreeClassifier\n",
    "from sklearn.ensemble import RandomForestClassifier, GradientBoostingClassifier\n",
    "from sklearn.neighbors import KNeighborsClassifier\n",
    "from sklearn.preprocessing import MinMaxScaler, OneHotEncoder\n",
    "from sklearn.impute import SimpleImputer\n",
    "from sklearn.model_selection import train_test_split\n",
    "from sklearn.linear_model import LogisticRegression, SGDClassifier\n",
    "from sklearn.metrics import accuracy_score"
   ]
  },
  {
   "cell_type": "code",
   "execution_count": 2,
   "id": "b2dec287",
   "metadata": {
    "execution": {
     "iopub.execute_input": "2023-01-08T07:54:48.542972Z",
     "iopub.status.busy": "2023-01-08T07:54:48.542648Z",
     "iopub.status.idle": "2023-01-08T07:54:48.577938Z",
     "shell.execute_reply": "2023-01-08T07:54:48.577064Z"
    },
    "papermill": {
     "duration": 0.045052,
     "end_time": "2023-01-08T07:54:48.579807",
     "exception": false,
     "start_time": "2023-01-08T07:54:48.534755",
     "status": "completed"
    },
    "tags": []
   },
   "outputs": [],
   "source": [
    "def concat_df(train_data, test_data):\n",
    "    # Returns a concatenated df of training and test set\n",
    "    return pd.concat([train_data, test_data], sort=True).reset_index(drop=True)\n",
    "\n",
    "def divide_df(all_data):\n",
    "    # Returns divided dfs of training and test set\n",
    "    return all_data.loc[:890], all_data.loc[891:].drop(['Survived'], axis=1)\n",
    "\n",
    "df_train = pd.read_csv('/kaggle/input/titanic/train.csv')\n",
    "df_test = pd.read_csv('/kaggle/input/titanic/test.csv')\n",
    "df_all = concat_df(df_train, df_test)\n",
    "\n",
    "train_test_data = [df_train, df_test]"
   ]
  },
  {
   "cell_type": "code",
   "execution_count": 3,
   "id": "7a0c6e69",
   "metadata": {
    "execution": {
     "iopub.execute_input": "2023-01-08T07:54:48.595630Z",
     "iopub.status.busy": "2023-01-08T07:54:48.594788Z",
     "iopub.status.idle": "2023-01-08T07:54:48.609360Z",
     "shell.execute_reply": "2023-01-08T07:54:48.608316Z"
    },
    "papermill": {
     "duration": 0.025978,
     "end_time": "2023-01-08T07:54:48.613039",
     "exception": false,
     "start_time": "2023-01-08T07:54:48.587061",
     "status": "completed"
    },
    "tags": []
   },
   "outputs": [
    {
     "name": "stdout",
     "output_type": "stream",
     "text": [
      "PassengerId column missing values: 0\n",
      "Survived column missing values: 0\n",
      "Pclass column missing values: 0\n",
      "Name column missing values: 0\n",
      "Sex column missing values: 0\n",
      "Age column missing values: 177\n",
      "SibSp column missing values: 0\n",
      "Parch column missing values: 0\n",
      "Ticket column missing values: 0\n",
      "Fare column missing values: 0\n",
      "Cabin column missing values: 687\n",
      "Embarked column missing values: 2\n",
      "\n",
      "\n",
      "PassengerId column missing values: 0\n",
      "Pclass column missing values: 0\n",
      "Name column missing values: 0\n",
      "Sex column missing values: 0\n",
      "Age column missing values: 86\n",
      "SibSp column missing values: 0\n",
      "Parch column missing values: 0\n",
      "Ticket column missing values: 0\n",
      "Fare column missing values: 1\n",
      "Cabin column missing values: 327\n",
      "Embarked column missing values: 0\n",
      "\n",
      "\n"
     ]
    }
   ],
   "source": [
    "def display_missing(df):    \n",
    "    for col in df.columns.tolist():          \n",
    "        print('{} column missing values: {}'.format(col, df[col].isnull().sum()))\n",
    "    print('\\n')\n",
    "    \n",
    "for df in train_test_data:\n",
    "    display_missing(df)"
   ]
  },
  {
   "cell_type": "code",
   "execution_count": 4,
   "id": "51b922be",
   "metadata": {
    "execution": {
     "iopub.execute_input": "2023-01-08T07:54:48.629723Z",
     "iopub.status.busy": "2023-01-08T07:54:48.629442Z",
     "iopub.status.idle": "2023-01-08T07:54:48.641822Z",
     "shell.execute_reply": "2023-01-08T07:54:48.640874Z"
    },
    "papermill": {
     "duration": 0.022594,
     "end_time": "2023-01-08T07:54:48.643924",
     "exception": false,
     "start_time": "2023-01-08T07:54:48.621330",
     "status": "completed"
    },
    "tags": []
   },
   "outputs": [
    {
     "data": {
      "text/plain": [
       "count    714.000000\n",
       "mean      29.699118\n",
       "std       14.526497\n",
       "min        0.420000\n",
       "25%       20.125000\n",
       "50%       28.000000\n",
       "75%       38.000000\n",
       "max       80.000000\n",
       "Name: Age, dtype: float64"
      ]
     },
     "execution_count": 4,
     "metadata": {},
     "output_type": "execute_result"
    }
   ],
   "source": [
    "df_train['Age'].describe()"
   ]
  },
  {
   "cell_type": "code",
   "execution_count": 5,
   "id": "ae404b4c",
   "metadata": {
    "execution": {
     "iopub.execute_input": "2023-01-08T07:54:48.661307Z",
     "iopub.status.busy": "2023-01-08T07:54:48.660674Z",
     "iopub.status.idle": "2023-01-08T07:54:48.670310Z",
     "shell.execute_reply": "2023-01-08T07:54:48.669410Z"
    },
    "papermill": {
     "duration": 0.020921,
     "end_time": "2023-01-08T07:54:48.672166",
     "exception": false,
     "start_time": "2023-01-08T07:54:48.651245",
     "status": "completed"
    },
    "tags": []
   },
   "outputs": [
    {
     "data": {
      "text/plain": [
       "31.0"
      ]
     },
     "execution_count": 5,
     "metadata": {},
     "output_type": "execute_result"
    }
   ],
   "source": [
    "Age_train = pd.unique(df_train['Age'])\n",
    "Age_test = pd.unique(df_test['Age'])\n",
    "\n",
    "\n",
    "mean_Age = round(np.nanmean(Age_train),0)\n",
    "mean_Age\n",
    "mean_Age = round(np.nanmean(Age_test),0)\n",
    "mean_Age"
   ]
  },
  {
   "cell_type": "markdown",
   "id": "cbde19e0",
   "metadata": {
    "papermill": {
     "duration": 0.007386,
     "end_time": "2023-01-08T07:54:48.686848",
     "exception": false,
     "start_time": "2023-01-08T07:54:48.679462",
     "status": "completed"
    },
    "tags": []
   },
   "source": [
    "---\n",
    "Age\n",
    "---\n",
    "- min : 0.42\n",
    "- max : 80\n",
    "- mean : 34"
   ]
  },
  {
   "cell_type": "code",
   "execution_count": 6,
   "id": "dfed9772",
   "metadata": {
    "execution": {
     "iopub.execute_input": "2023-01-08T07:54:48.703151Z",
     "iopub.status.busy": "2023-01-08T07:54:48.702306Z",
     "iopub.status.idle": "2023-01-08T07:54:48.725877Z",
     "shell.execute_reply": "2023-01-08T07:54:48.724079Z"
    },
    "papermill": {
     "duration": 0.03374,
     "end_time": "2023-01-08T07:54:48.727854",
     "exception": false,
     "start_time": "2023-01-08T07:54:48.694114",
     "status": "completed"
    },
    "tags": []
   },
   "outputs": [
    {
     "name": "stdout",
     "output_type": "stream",
     "text": [
      "<class 'pandas.core.frame.DataFrame'>\n",
      "RangeIndex: 891 entries, 0 to 890\n",
      "Data columns (total 12 columns):\n",
      " #   Column       Non-Null Count  Dtype  \n",
      "---  ------       --------------  -----  \n",
      " 0   PassengerId  891 non-null    int64  \n",
      " 1   Survived     891 non-null    int64  \n",
      " 2   Pclass       891 non-null    int64  \n",
      " 3   Name         891 non-null    object \n",
      " 4   Sex          891 non-null    object \n",
      " 5   Age          891 non-null    float64\n",
      " 6   SibSp        891 non-null    int64  \n",
      " 7   Parch        891 non-null    int64  \n",
      " 8   Ticket       891 non-null    object \n",
      " 9   Fare         891 non-null    float64\n",
      " 10  Cabin        204 non-null    object \n",
      " 11  Embarked     889 non-null    object \n",
      "dtypes: float64(2), int64(5), object(5)\n",
      "memory usage: 83.7+ KB\n",
      "<class 'pandas.core.frame.DataFrame'>\n",
      "RangeIndex: 418 entries, 0 to 417\n",
      "Data columns (total 11 columns):\n",
      " #   Column       Non-Null Count  Dtype  \n",
      "---  ------       --------------  -----  \n",
      " 0   PassengerId  418 non-null    int64  \n",
      " 1   Pclass       418 non-null    int64  \n",
      " 2   Name         418 non-null    object \n",
      " 3   Sex          418 non-null    object \n",
      " 4   Age          418 non-null    float64\n",
      " 5   SibSp        418 non-null    int64  \n",
      " 6   Parch        418 non-null    int64  \n",
      " 7   Ticket       418 non-null    object \n",
      " 8   Fare         417 non-null    float64\n",
      " 9   Cabin        91 non-null     object \n",
      " 10  Embarked     418 non-null    object \n",
      "dtypes: float64(2), int64(4), object(5)\n",
      "memory usage: 36.0+ KB\n"
     ]
    }
   ],
   "source": [
    "df_train['Age'] = df_train['Age'].fillna(34)\n",
    "df_test['Age'] = df_test['Age'].fillna(31 )\n",
    "\n",
    "df_train.info()\n",
    "df_test.info()"
   ]
  },
  {
   "cell_type": "code",
   "execution_count": 7,
   "id": "c44e3405",
   "metadata": {
    "execution": {
     "iopub.execute_input": "2023-01-08T07:54:48.744421Z",
     "iopub.status.busy": "2023-01-08T07:54:48.743656Z",
     "iopub.status.idle": "2023-01-08T07:54:48.748941Z",
     "shell.execute_reply": "2023-01-08T07:54:48.748081Z"
    },
    "papermill": {
     "duration": 0.015377,
     "end_time": "2023-01-08T07:54:48.750825",
     "exception": false,
     "start_time": "2023-01-08T07:54:48.735448",
     "status": "completed"
    },
    "tags": []
   },
   "outputs": [],
   "source": [
    "def show_plt(col):\n",
    "    plt.figure(figsize= (3, 4))\n",
    "    sns.set(style='darkgrid')\n",
    "    sns.countplot(x = col, data = df_train, palette=['Red', 'Blue'])\n",
    "    plt.title(col, size=15)\n",
    "    plt.show()"
   ]
  },
  {
   "cell_type": "code",
   "execution_count": 8,
   "id": "45687fac",
   "metadata": {
    "execution": {
     "iopub.execute_input": "2023-01-08T07:54:48.766999Z",
     "iopub.status.busy": "2023-01-08T07:54:48.766587Z",
     "iopub.status.idle": "2023-01-08T07:54:49.040733Z",
     "shell.execute_reply": "2023-01-08T07:54:49.039508Z"
    },
    "papermill": {
     "duration": 0.285354,
     "end_time": "2023-01-08T07:54:49.043594",
     "exception": false,
     "start_time": "2023-01-08T07:54:48.758240",
     "status": "completed"
    },
    "tags": []
   },
   "outputs": [
    {
     "data": {
      "image/png": "[encoded data removed]",
      "text/plain": [
       "<Figure size 216x288 with 1 Axes>"
      ]
     },
     "metadata": {
      "needs_background": "light"
     },
     "output_type": "display_data"
    }
   ],
   "source": [
    "show_plt('Survived')"
   ]
  },
  {
   "cell_type": "code",
   "execution_count": 9,
   "id": "0ef6137b",
   "metadata": {
    "execution": {
     "iopub.execute_input": "2023-01-08T07:54:49.069187Z",
     "iopub.status.busy": "2023-01-08T07:54:49.068833Z",
     "iopub.status.idle": "2023-01-08T07:54:49.225456Z",
     "shell.execute_reply": "2023-01-08T07:54:49.224215Z"
    },
    "papermill": {
     "duration": 0.172821,
     "end_time": "2023-01-08T07:54:49.229049",
     "exception": false,
     "start_time": "2023-01-08T07:54:49.056228",
     "status": "completed"
    },
    "tags": []
   },
   "outputs": [
    {
     "data": {
      "image/png": "[encoded data removed]",
      "text/plain": [
       "<Figure size 216x288 with 1 Axes>"
      ]
     },
     "metadata": {},
     "output_type": "display_data"
    }
   ],
   "source": [
    "show_plt('Sex')"
   ]
  },
  {
   "cell_type": "code",
   "execution_count": 10,
   "id": "6188f6bb",
   "metadata": {
    "execution": {
     "iopub.execute_input": "2023-01-08T07:54:49.265883Z",
     "iopub.status.busy": "2023-01-08T07:54:49.265463Z",
     "iopub.status.idle": "2023-01-08T07:54:49.808451Z",
     "shell.execute_reply": "2023-01-08T07:54:49.807524Z"
    },
    "papermill": {
     "duration": 0.55762,
     "end_time": "2023-01-08T07:54:49.810530",
     "exception": false,
     "start_time": "2023-01-08T07:54:49.252910",
     "status": "completed"
    },
    "tags": []
   },
   "outputs": [
    {
     "data": {
      "text/plain": [
       "<seaborn.axisgrid.FacetGrid at 0x7f76fec55e50>"
      ]
     },
     "execution_count": 10,
     "metadata": {},
     "output_type": "execute_result"
    },
    {
     "data": {
      "image/png": "[encoded data removed]",
      "text/plain": [
       "<Figure size 925.55x216 with 1 Axes>"
      ]
     },
     "metadata": {},
     "output_type": "display_data"
    }
   ],
   "source": [
    "b = sns.FacetGrid(df_train, hue = 'Survived', aspect=4)\n",
    "b.map(sns.kdeplot, 'Fare', shade= True)\n",
    "b.set(xlim=(0, df_train['Fare'].max()))\n",
    "b.add_legend()"
   ]
  },
  {
   "cell_type": "code",
   "execution_count": 11,
   "id": "75b8825b",
   "metadata": {
    "execution": {
     "iopub.execute_input": "2023-01-08T07:54:49.828982Z",
     "iopub.status.busy": "2023-01-08T07:54:49.828589Z",
     "iopub.status.idle": "2023-01-08T07:54:50.336335Z",
     "shell.execute_reply": "2023-01-08T07:54:50.335444Z"
    },
    "papermill": {
     "duration": 0.519008,
     "end_time": "2023-01-08T07:54:50.338419",
     "exception": false,
     "start_time": "2023-01-08T07:54:49.819411",
     "status": "completed"
    },
    "tags": []
   },
   "outputs": [
    {
     "data": {
      "text/plain": [
       "<AxesSubplot:>"
      ]
     },
     "execution_count": 11,
     "metadata": {},
     "output_type": "execute_result"
    },
    {
     "data": {
      "image/png": "[encoded data removed]",
      "text/plain": [
       "<Figure size 432x288 with 2 Axes>"
      ]
     },
     "metadata": {},
     "output_type": "display_data"
    }
   ],
   "source": [
    "sns.heatmap(df_train.corr(), annot = True)"
   ]
  },
  {
   "cell_type": "code",
   "execution_count": 12,
   "id": "ccf42b23",
   "metadata": {
    "execution": {
     "iopub.execute_input": "2023-01-08T07:54:50.359382Z",
     "iopub.status.busy": "2023-01-08T07:54:50.357972Z",
     "iopub.status.idle": "2023-01-08T07:54:50.368895Z",
     "shell.execute_reply": "2023-01-08T07:54:50.367784Z"
    },
    "papermill": {
     "duration": 0.023845,
     "end_time": "2023-01-08T07:54:50.371672",
     "exception": false,
     "start_time": "2023-01-08T07:54:50.347827",
     "status": "completed"
    },
    "tags": []
   },
   "outputs": [
    {
     "name": "stdout",
     "output_type": "stream",
     "text": [
      "PassengerId      0\n",
      "Survived         0\n",
      "Pclass           0\n",
      "Name             0\n",
      "Sex              0\n",
      "Age              0\n",
      "SibSp            0\n",
      "Parch            0\n",
      "Ticket           0\n",
      "Fare             0\n",
      "Cabin          687\n",
      "Embarked         2\n",
      "dtype: int64\n"
     ]
    }
   ],
   "source": [
    "print(df_train.isnull().sum())"
   ]
  },
  {
   "cell_type": "code",
   "execution_count": 13,
   "id": "97aee0c7",
   "metadata": {
    "execution": {
     "iopub.execute_input": "2023-01-08T07:54:50.391633Z",
     "iopub.status.busy": "2023-01-08T07:54:50.391366Z",
     "iopub.status.idle": "2023-01-08T07:54:50.398897Z",
     "shell.execute_reply": "2023-01-08T07:54:50.398028Z"
    },
    "papermill": {
     "duration": 0.019663,
     "end_time": "2023-01-08T07:54:50.400831",
     "exception": false,
     "start_time": "2023-01-08T07:54:50.381168",
     "status": "completed"
    },
    "tags": []
   },
   "outputs": [],
   "source": [
    "si = SimpleImputer(strategy='most_frequent') # 결측값 최빈값으로 채우기.\n",
    "\n",
    "df_train['Embarked'] = si.fit_transform(df_train['Embarked'].values.reshape(-1, 1))\n",
    "df_test['Embarked'] = si.fit_transform(df_test['Embarked'].values.reshape(-1, 1))"
   ]
  },
  {
   "cell_type": "code",
   "execution_count": 14,
   "id": "8018b4c2",
   "metadata": {
    "execution": {
     "iopub.execute_input": "2023-01-08T07:54:50.420618Z",
     "iopub.status.busy": "2023-01-08T07:54:50.420350Z",
     "iopub.status.idle": "2023-01-08T07:54:50.429000Z",
     "shell.execute_reply": "2023-01-08T07:54:50.428066Z"
    },
    "papermill": {
     "duration": 0.020607,
     "end_time": "2023-01-08T07:54:50.430874",
     "exception": false,
     "start_time": "2023-01-08T07:54:50.410267",
     "status": "completed"
    },
    "tags": []
   },
   "outputs": [
    {
     "data": {
      "text/plain": [
       "PassengerId      0\n",
       "Survived         0\n",
       "Pclass           0\n",
       "Name             0\n",
       "Sex              0\n",
       "Age              0\n",
       "SibSp            0\n",
       "Parch            0\n",
       "Ticket           0\n",
       "Fare             0\n",
       "Cabin          687\n",
       "Embarked         0\n",
       "dtype: int64"
      ]
     },
     "execution_count": 14,
     "metadata": {},
     "output_type": "execute_result"
    }
   ],
   "source": [
    "df_train.isnull().sum()"
   ]
  },
  {
   "cell_type": "code",
   "execution_count": 15,
   "id": "76ca1d70",
   "metadata": {
    "execution": {
     "iopub.execute_input": "2023-01-08T07:54:50.451005Z",
     "iopub.status.busy": "2023-01-08T07:54:50.450736Z",
     "iopub.status.idle": "2023-01-08T07:54:50.455693Z",
     "shell.execute_reply": "2023-01-08T07:54:50.454839Z"
    },
    "papermill": {
     "duration": 0.017434,
     "end_time": "2023-01-08T07:54:50.457738",
     "exception": false,
     "start_time": "2023-01-08T07:54:50.440304",
     "status": "completed"
    },
    "tags": []
   },
   "outputs": [],
   "source": [
    "# mapping columns datas\n",
    "def mapping_col(col, col_mapping):\n",
    "    for dataset in train_test_data:\n",
    "        dataset[col] = dataset[col].map(col_mapping)"
   ]
  },
  {
   "cell_type": "code",
   "execution_count": 16,
   "id": "e944d737",
   "metadata": {
    "execution": {
     "iopub.execute_input": "2023-01-08T07:54:50.477806Z",
     "iopub.status.busy": "2023-01-08T07:54:50.477533Z",
     "iopub.status.idle": "2023-01-08T07:54:50.483998Z",
     "shell.execute_reply": "2023-01-08T07:54:50.482963Z"
    },
    "papermill": {
     "duration": 0.019072,
     "end_time": "2023-01-08T07:54:50.486168",
     "exception": false,
     "start_time": "2023-01-08T07:54:50.467096",
     "status": "completed"
    },
    "tags": []
   },
   "outputs": [],
   "source": [
    "sex_mapping = {'male' : 0 , 'female' : 1}\n",
    "mapping_col('Sex', sex_mapping)"
   ]
  },
  {
   "cell_type": "code",
   "execution_count": 17,
   "id": "e035d3aa",
   "metadata": {
    "execution": {
     "iopub.execute_input": "2023-01-08T07:54:50.506590Z",
     "iopub.status.busy": "2023-01-08T07:54:50.506339Z",
     "iopub.status.idle": "2023-01-08T07:54:50.513804Z",
     "shell.execute_reply": "2023-01-08T07:54:50.512832Z"
    },
    "papermill": {
     "duration": 0.019874,
     "end_time": "2023-01-08T07:54:50.515717",
     "exception": false,
     "start_time": "2023-01-08T07:54:50.495843",
     "status": "completed"
    },
    "tags": []
   },
   "outputs": [],
   "source": [
    "embarked_mapping = {'S' : 0 , 'C' : 1, 'Q' :2}\n",
    "mapping_col('Embarked', embarked_mapping)"
   ]
  },
  {
   "cell_type": "code",
   "execution_count": 18,
   "id": "94b9aa5e",
   "metadata": {
    "execution": {
     "iopub.execute_input": "2023-01-08T07:54:50.536333Z",
     "iopub.status.busy": "2023-01-08T07:54:50.535580Z",
     "iopub.status.idle": "2023-01-08T07:54:50.548930Z",
     "shell.execute_reply": "2023-01-08T07:54:50.547133Z"
    },
    "papermill": {
     "duration": 0.025555,
     "end_time": "2023-01-08T07:54:50.550856",
     "exception": false,
     "start_time": "2023-01-08T07:54:50.525301",
     "status": "completed"
    },
    "tags": []
   },
   "outputs": [
    {
     "name": "stdout",
     "output_type": "stream",
     "text": [
      "<class 'pandas.core.frame.DataFrame'>\n",
      "RangeIndex: 418 entries, 0 to 417\n",
      "Data columns (total 11 columns):\n",
      " #   Column       Non-Null Count  Dtype  \n",
      "---  ------       --------------  -----  \n",
      " 0   PassengerId  418 non-null    int64  \n",
      " 1   Pclass       418 non-null    int64  \n",
      " 2   Name         418 non-null    object \n",
      " 3   Sex          418 non-null    int64  \n",
      " 4   Age          418 non-null    float64\n",
      " 5   SibSp        418 non-null    int64  \n",
      " 6   Parch        418 non-null    int64  \n",
      " 7   Ticket       418 non-null    object \n",
      " 8   Fare         418 non-null    float64\n",
      " 9   Cabin        91 non-null     object \n",
      " 10  Embarked     418 non-null    int64  \n",
      "dtypes: float64(2), int64(6), object(3)\n",
      "memory usage: 36.0+ KB\n"
     ]
    }
   ],
   "source": [
    "si_Fare = SimpleImputer(missing_values=np.nan, strategy='mean')\n",
    "df_test['Fare'] = si_Fare.fit_transform(df_test['Fare'].values.reshape(-1, 1))\n",
    "df_test.info()"
   ]
  },
  {
   "cell_type": "code",
   "execution_count": 19,
   "id": "81adea6a",
   "metadata": {
    "execution": {
     "iopub.execute_input": "2023-01-08T07:54:50.572460Z",
     "iopub.status.busy": "2023-01-08T07:54:50.571587Z",
     "iopub.status.idle": "2023-01-08T07:54:50.579332Z",
     "shell.execute_reply": "2023-01-08T07:54:50.578459Z"
    },
    "papermill": {
     "duration": 0.020168,
     "end_time": "2023-01-08T07:54:50.581250",
     "exception": false,
     "start_time": "2023-01-08T07:54:50.561082",
     "status": "completed"
    },
    "tags": []
   },
   "outputs": [],
   "source": [
    "mmx = MinMaxScaler()\n",
    "for dataset in train_test_data:\n",
    "    dataset['Fare'] = mmx.fit_transform(dataset['Fare'].values.reshape(-1, 1))\n",
    "    dataset['Age'] = mmx.fit_transform(dataset['Age'].values.reshape(-1, 1))"
   ]
  },
  {
   "cell_type": "code",
   "execution_count": 20,
   "id": "086fd21e",
   "metadata": {
    "execution": {
     "iopub.execute_input": "2023-01-08T07:54:50.601535Z",
     "iopub.status.busy": "2023-01-08T07:54:50.601272Z",
     "iopub.status.idle": "2023-01-08T07:54:50.608860Z",
     "shell.execute_reply": "2023-01-08T07:54:50.607991Z"
    },
    "papermill": {
     "duration": 0.019893,
     "end_time": "2023-01-08T07:54:50.610783",
     "exception": false,
     "start_time": "2023-01-08T07:54:50.590890",
     "status": "completed"
    },
    "tags": []
   },
   "outputs": [],
   "source": [
    "for dataset in train_test_data:\n",
    "    dataset['Title'] = dataset['Name'].str.extract(' ([A-Za-z]+)\\.', expand=False)"
   ]
  },
  {
   "cell_type": "code",
   "execution_count": 21,
   "id": "af3284ab",
   "metadata": {
    "execution": {
     "iopub.execute_input": "2023-01-08T07:54:50.631794Z",
     "iopub.status.busy": "2023-01-08T07:54:50.630940Z",
     "iopub.status.idle": "2023-01-08T07:54:50.636799Z",
     "shell.execute_reply": "2023-01-08T07:54:50.635603Z"
    },
    "papermill": {
     "duration": 0.018993,
     "end_time": "2023-01-08T07:54:50.639343",
     "exception": false,
     "start_time": "2023-01-08T07:54:50.620350",
     "status": "completed"
    },
    "tags": []
   },
   "outputs": [
    {
     "name": "stdout",
     "output_type": "stream",
     "text": [
      "['Mr' 'Mrs' 'Miss' 'Master' 'Ms' 'Col' 'Rev' 'Dr' 'Dona']\n"
     ]
    }
   ],
   "source": [
    "print(df_test['Title'].unique())"
   ]
  },
  {
   "cell_type": "code",
   "execution_count": 22,
   "id": "2e4fb153",
   "metadata": {
    "execution": {
     "iopub.execute_input": "2023-01-08T07:54:50.661803Z",
     "iopub.status.busy": "2023-01-08T07:54:50.660337Z",
     "iopub.status.idle": "2023-01-08T07:54:50.667669Z",
     "shell.execute_reply": "2023-01-08T07:54:50.666559Z"
    },
    "papermill": {
     "duration": 0.020433,
     "end_time": "2023-01-08T07:54:50.670254",
     "exception": false,
     "start_time": "2023-01-08T07:54:50.649821",
     "status": "completed"
    },
    "tags": []
   },
   "outputs": [
    {
     "name": "stdout",
     "output_type": "stream",
     "text": [
      "['Mr' 'Mrs' 'Miss' 'Master' 'Don' 'Rev' 'Dr' 'Mme' 'Ms' 'Major' 'Lady'\n",
      " 'Sir' 'Mlle' 'Col' 'Capt' 'Countess' 'Jonkheer']\n"
     ]
    }
   ],
   "source": [
    "print(df_train['Title'].unique())"
   ]
  },
  {
   "cell_type": "code",
   "execution_count": 23,
   "id": "17e3c583",
   "metadata": {
    "execution": {
     "iopub.execute_input": "2023-01-08T07:54:50.691496Z",
     "iopub.status.busy": "2023-01-08T07:54:50.691236Z",
     "iopub.status.idle": "2023-01-08T07:54:50.699485Z",
     "shell.execute_reply": "2023-01-08T07:54:50.698610Z"
    },
    "papermill": {
     "duration": 0.02124,
     "end_time": "2023-01-08T07:54:50.701467",
     "exception": false,
     "start_time": "2023-01-08T07:54:50.680227",
     "status": "completed"
    },
    "tags": []
   },
   "outputs": [],
   "source": [
    "title_mapping = {\"Mr\": 0, \"Miss\": 0, \"Mrs\": 0,\n",
    "                 \"Master\": 1, \"Dr\": 1, \"Rev\": 1, \"Col\": 1, \"Major\": 1, \"Mlle\": 0,\"Countess\": 1,\n",
    "                 \"Ms\": 0, \"Lady\": 1, \"Jonkheer\": 1, \"Don\": 1, \"Dona\" : 1, \"Mme\": 0,\"Capt\": 0,\"Sir\": 1 }\n",
    "mapping_col('Title',title_mapping)\n",
    "for dataset in train_test_data:\n",
    "    dataset['Title'] = dataset['Title'].fillna(0)"
   ]
  },
  {
   "cell_type": "code",
   "execution_count": 24,
   "id": "eb2c88c0",
   "metadata": {
    "execution": {
     "iopub.execute_input": "2023-01-08T07:54:50.722392Z",
     "iopub.status.busy": "2023-01-08T07:54:50.722141Z",
     "iopub.status.idle": "2023-01-08T07:54:50.850554Z",
     "shell.execute_reply": "2023-01-08T07:54:50.849509Z"
    },
    "papermill": {
     "duration": 0.141604,
     "end_time": "2023-01-08T07:54:50.852991",
     "exception": false,
     "start_time": "2023-01-08T07:54:50.711387",
     "status": "completed"
    },
    "tags": []
   },
   "outputs": [
    {
     "name": "stderr",
     "output_type": "stream",
     "text": [
      "/opt/conda/lib/python3.7/site-packages/ipykernel_launcher.py:3: SettingWithCopyWarning: \n",
      "A value is trying to be set on a copy of a slice from a DataFrame\n",
      "\n",
      "See the caveats in the documentation: https://pandas.pydata.org/pandas-docs/stable/user_guide/indexing.html#returning-a-view-versus-a-copy\n",
      "  This is separate from the ipykernel package so we can avoid doing imports until\n",
      "/opt/conda/lib/python3.7/site-packages/ipykernel_launcher.py:6: SettingWithCopyWarning: \n",
      "A value is trying to be set on a copy of a slice from a DataFrame\n",
      "\n",
      "See the caveats in the documentation: https://pandas.pydata.org/pandas-docs/stable/user_guide/indexing.html#returning-a-view-versus-a-copy\n",
      "  \n"
     ]
    }
   ],
   "source": [
    "for n, i in enumerate(df_train['SibSp']):\n",
    "    if i != 0:\n",
    "        df_train['SibSp'][n] = 1\n",
    "for n, i in enumerate(df_train['Parch']):\n",
    "    if i != 0:\n",
    "        df_train['Parch'][n] = 1"
   ]
  },
  {
   "cell_type": "code",
   "execution_count": 25,
   "id": "6d30e482",
   "metadata": {
    "execution": {
     "iopub.execute_input": "2023-01-08T07:54:50.875414Z",
     "iopub.status.busy": "2023-01-08T07:54:50.874036Z",
     "iopub.status.idle": "2023-01-08T07:54:50.883960Z",
     "shell.execute_reply": "2023-01-08T07:54:50.883007Z"
    },
    "papermill": {
     "duration": 0.022754,
     "end_time": "2023-01-08T07:54:50.885913",
     "exception": false,
     "start_time": "2023-01-08T07:54:50.863159",
     "status": "completed"
    },
    "tags": []
   },
   "outputs": [],
   "source": [
    "for dataset in train_test_data:\n",
    "    # FamilySize = SibSp + Parch + Self\n",
    "    dataset['FamilySize'] = dataset['SibSp'] + dataset['Parch'] + 1\n",
    "    # FamilySize == 0 => 1\n",
    "    dataset['IsAlone'] = 1\n",
    "    \n",
    "    # FamilySize > 1 => 0\n",
    "    dataset.loc[dataset['FamilySize'] > 1, 'IsAlone'] = 0"
   ]
  },
  {
   "cell_type": "code",
   "execution_count": 26,
   "id": "0d808d5a",
   "metadata": {
    "execution": {
     "iopub.execute_input": "2023-01-08T07:54:50.907074Z",
     "iopub.status.busy": "2023-01-08T07:54:50.906808Z",
     "iopub.status.idle": "2023-01-08T07:54:50.913563Z",
     "shell.execute_reply": "2023-01-08T07:54:50.912730Z"
    },
    "papermill": {
     "duration": 0.01962,
     "end_time": "2023-01-08T07:54:50.915491",
     "exception": false,
     "start_time": "2023-01-08T07:54:50.895871",
     "status": "completed"
    },
    "tags": []
   },
   "outputs": [],
   "source": [
    "# drop col\n",
    "feature_drop = ['Cabin', 'Name', 'Ticket', 'SibSp', 'Parch', 'FamilySize']\n",
    "\n",
    "df_train = df_train.drop(feature_drop, axis=1)\n",
    "df_test = df_test.drop(feature_drop, axis=1)"
   ]
  },
  {
   "cell_type": "code",
   "execution_count": 27,
   "id": "dec1fa62",
   "metadata": {
    "execution": {
     "iopub.execute_input": "2023-01-08T07:54:50.937556Z",
     "iopub.status.busy": "2023-01-08T07:54:50.936710Z",
     "iopub.status.idle": "2023-01-08T07:54:50.941984Z",
     "shell.execute_reply": "2023-01-08T07:54:50.941155Z"
    },
    "papermill": {
     "duration": 0.018119,
     "end_time": "2023-01-08T07:54:50.943909",
     "exception": false,
     "start_time": "2023-01-08T07:54:50.925790",
     "status": "completed"
    },
    "tags": []
   },
   "outputs": [],
   "source": [
    "DS_train = df_train[['PassengerId', 'Sex', 'Pclass', 'Age', 'Fare', 'Embarked', 'Title', 'IsAlone','Survived']]"
   ]
  },
  {
   "cell_type": "code",
   "execution_count": 28,
   "id": "78ed1aab",
   "metadata": {
    "execution": {
     "iopub.execute_input": "2023-01-08T07:54:50.966027Z",
     "iopub.status.busy": "2023-01-08T07:54:50.965290Z",
     "iopub.status.idle": "2023-01-08T07:54:50.970643Z",
     "shell.execute_reply": "2023-01-08T07:54:50.969769Z"
    },
    "papermill": {
     "duration": 0.018851,
     "end_time": "2023-01-08T07:54:50.972784",
     "exception": false,
     "start_time": "2023-01-08T07:54:50.953933",
     "status": "completed"
    },
    "tags": []
   },
   "outputs": [],
   "source": [
    "DS_test = df_test[['PassengerId', 'Sex', 'Pclass', 'Age', 'Fare', 'Embarked', 'Title', 'IsAlone']]"
   ]
  },
  {
   "cell_type": "code",
   "execution_count": 29,
   "id": "f489cbef",
   "metadata": {
    "execution": {
     "iopub.execute_input": "2023-01-08T07:54:50.994718Z",
     "iopub.status.busy": "2023-01-08T07:54:50.993964Z",
     "iopub.status.idle": "2023-01-08T07:54:51.012007Z",
     "shell.execute_reply": "2023-01-08T07:54:51.010833Z"
    },
    "papermill": {
     "duration": 0.030928,
     "end_time": "2023-01-08T07:54:51.013970",
     "exception": false,
     "start_time": "2023-01-08T07:54:50.983042",
     "status": "completed"
    },
    "tags": []
   },
   "outputs": [
    {
     "data": {
      "text/html": [
       "<div>\n",
       "<style scoped>\n",
       "    .dataframe tbody tr th:only-of-type {\n",
       "        vertical-align: middle;\n",
       "    }\n",
       "\n",
       "    .dataframe tbody tr th {\n",
       "        vertical-align: top;\n",
       "    }\n",
       "\n",
       "    .dataframe thead th {\n",
       "        text-align: right;\n",
       "    }\n",
       "</style>\n",
       "<table border=\"1\" class=\"dataframe\">\n",
       "  <thead>\n",
       "    <tr style=\"text-align: right;\">\n",
       "      <th></th>\n",
       "      <th>Sex</th>\n",
       "      <th>Pclass</th>\n",
       "      <th>Age</th>\n",
       "      <th>Fare</th>\n",
       "      <th>Embarked</th>\n",
       "      <th>Title</th>\n",
       "      <th>IsAlone</th>\n",
       "    </tr>\n",
       "  </thead>\n",
       "  <tbody>\n",
       "    <tr>\n",
       "      <th>0</th>\n",
       "      <td>0</td>\n",
       "      <td>3</td>\n",
       "      <td>0.271174</td>\n",
       "      <td>0.014151</td>\n",
       "      <td>0</td>\n",
       "      <td>0</td>\n",
       "      <td>0</td>\n",
       "    </tr>\n",
       "    <tr>\n",
       "      <th>1</th>\n",
       "      <td>1</td>\n",
       "      <td>1</td>\n",
       "      <td>0.472229</td>\n",
       "      <td>0.139136</td>\n",
       "      <td>1</td>\n",
       "      <td>0</td>\n",
       "      <td>0</td>\n",
       "    </tr>\n",
       "    <tr>\n",
       "      <th>2</th>\n",
       "      <td>1</td>\n",
       "      <td>3</td>\n",
       "      <td>0.321438</td>\n",
       "      <td>0.015469</td>\n",
       "      <td>0</td>\n",
       "      <td>0</td>\n",
       "      <td>1</td>\n",
       "    </tr>\n",
       "    <tr>\n",
       "      <th>3</th>\n",
       "      <td>1</td>\n",
       "      <td>1</td>\n",
       "      <td>0.434531</td>\n",
       "      <td>0.103644</td>\n",
       "      <td>0</td>\n",
       "      <td>0</td>\n",
       "      <td>0</td>\n",
       "    </tr>\n",
       "    <tr>\n",
       "      <th>4</th>\n",
       "      <td>0</td>\n",
       "      <td>3</td>\n",
       "      <td>0.434531</td>\n",
       "      <td>0.015713</td>\n",
       "      <td>0</td>\n",
       "      <td>0</td>\n",
       "      <td>1</td>\n",
       "    </tr>\n",
       "    <tr>\n",
       "      <th>...</th>\n",
       "      <td>...</td>\n",
       "      <td>...</td>\n",
       "      <td>...</td>\n",
       "      <td>...</td>\n",
       "      <td>...</td>\n",
       "      <td>...</td>\n",
       "      <td>...</td>\n",
       "    </tr>\n",
       "    <tr>\n",
       "      <th>886</th>\n",
       "      <td>0</td>\n",
       "      <td>2</td>\n",
       "      <td>0.334004</td>\n",
       "      <td>0.025374</td>\n",
       "      <td>0</td>\n",
       "      <td>1</td>\n",
       "      <td>1</td>\n",
       "    </tr>\n",
       "    <tr>\n",
       "      <th>887</th>\n",
       "      <td>1</td>\n",
       "      <td>1</td>\n",
       "      <td>0.233476</td>\n",
       "      <td>0.058556</td>\n",
       "      <td>0</td>\n",
       "      <td>0</td>\n",
       "      <td>1</td>\n",
       "    </tr>\n",
       "    <tr>\n",
       "      <th>888</th>\n",
       "      <td>1</td>\n",
       "      <td>3</td>\n",
       "      <td>0.421965</td>\n",
       "      <td>0.045771</td>\n",
       "      <td>0</td>\n",
       "      <td>0</td>\n",
       "      <td>0</td>\n",
       "    </tr>\n",
       "    <tr>\n",
       "      <th>889</th>\n",
       "      <td>0</td>\n",
       "      <td>1</td>\n",
       "      <td>0.321438</td>\n",
       "      <td>0.058556</td>\n",
       "      <td>1</td>\n",
       "      <td>0</td>\n",
       "      <td>1</td>\n",
       "    </tr>\n",
       "    <tr>\n",
       "      <th>890</th>\n",
       "      <td>0</td>\n",
       "      <td>3</td>\n",
       "      <td>0.396833</td>\n",
       "      <td>0.015127</td>\n",
       "      <td>2</td>\n",
       "      <td>0</td>\n",
       "      <td>1</td>\n",
       "    </tr>\n",
       "  </tbody>\n",
       "</table>\n",
       "<p>891 rows × 7 columns</p>\n",
       "</div>"
      ],
      "text/plain": [
       "     Sex  Pclass       Age      Fare  Embarked  Title  IsAlone\n",
       "0      0       3  0.271174  0.014151         0      0        0\n",
       "1      1       1  0.472229  0.139136         1      0        0\n",
       "2      1       3  0.321438  0.015469         0      0        1\n",
       "3      1       1  0.434531  0.103644         0      0        0\n",
       "4      0       3  0.434531  0.015713         0      0        1\n",
       "..   ...     ...       ...       ...       ...    ...      ...\n",
       "886    0       2  0.334004  0.025374         0      1        1\n",
       "887    1       1  0.233476  0.058556         0      0        1\n",
       "888    1       3  0.421965  0.045771         0      0        0\n",
       "889    0       1  0.321438  0.058556         1      0        1\n",
       "890    0       3  0.396833  0.015127         2      0        1\n",
       "\n",
       "[891 rows x 7 columns]"
      ]
     },
     "execution_count": 29,
     "metadata": {},
     "output_type": "execute_result"
    }
   ],
   "source": [
    "feature_columns = ['Sex', 'Pclass', 'Age', 'Fare', 'Embarked', 'Title', 'IsAlone']\n",
    "X = DS_train[feature_columns]\n",
    "y = DS_train['Survived']\n",
    "X"
   ]
  },
  {
   "cell_type": "code",
   "execution_count": 30,
   "id": "14b55560",
   "metadata": {
    "execution": {
     "iopub.execute_input": "2023-01-08T07:54:51.036630Z",
     "iopub.status.busy": "2023-01-08T07:54:51.035780Z",
     "iopub.status.idle": "2023-01-08T07:54:51.042675Z",
     "shell.execute_reply": "2023-01-08T07:54:51.041719Z"
    },
    "papermill": {
     "duration": 0.020552,
     "end_time": "2023-01-08T07:54:51.045030",
     "exception": false,
     "start_time": "2023-01-08T07:54:51.024478",
     "status": "completed"
    },
    "tags": []
   },
   "outputs": [
    {
     "data": {
      "text/plain": [
       "0      0\n",
       "1      1\n",
       "2      1\n",
       "3      1\n",
       "4      0\n",
       "      ..\n",
       "886    0\n",
       "887    1\n",
       "888    0\n",
       "889    1\n",
       "890    0\n",
       "Name: Survived, Length: 891, dtype: int64"
      ]
     },
     "execution_count": 30,
     "metadata": {},
     "output_type": "execute_result"
    }
   ],
   "source": [
    "y"
   ]
  },
  {
   "cell_type": "code",
   "execution_count": 31,
   "id": "e15acd51",
   "metadata": {
    "execution": {
     "iopub.execute_input": "2023-01-08T07:54:51.067903Z",
     "iopub.status.busy": "2023-01-08T07:54:51.067171Z",
     "iopub.status.idle": "2023-01-08T07:54:51.073055Z",
     "shell.execute_reply": "2023-01-08T07:54:51.072217Z"
    },
    "papermill": {
     "duration": 0.019258,
     "end_time": "2023-01-08T07:54:51.075029",
     "exception": false,
     "start_time": "2023-01-08T07:54:51.055771",
     "status": "completed"
    },
    "tags": []
   },
   "outputs": [],
   "source": [
    "X_train, X_test, y_train, y_test = train_test_split(X, y, test_size=0.3, random_state=0)"
   ]
  },
  {
   "cell_type": "code",
   "execution_count": 32,
   "id": "57ab868d",
   "metadata": {
    "execution": {
     "iopub.execute_input": "2023-01-08T07:54:51.098307Z",
     "iopub.status.busy": "2023-01-08T07:54:51.097544Z",
     "iopub.status.idle": "2023-01-08T07:54:51.116242Z",
     "shell.execute_reply": "2023-01-08T07:54:51.114839Z"
    },
    "papermill": {
     "duration": 0.033029,
     "end_time": "2023-01-08T07:54:51.118935",
     "exception": false,
     "start_time": "2023-01-08T07:54:51.085906",
     "status": "completed"
    },
    "tags": []
   },
   "outputs": [
    {
     "name": "stdout",
     "output_type": "stream",
     "text": [
      "78.36\n"
     ]
    }
   ],
   "source": [
    "logreg = LogisticRegression(max_iter=30000)\n",
    "\n",
    "logreg.fit(X_train, y_train)\n",
    "y_pred = logreg.predict(X_test)\n",
    "\n",
    "acc_Log = round(accuracy_score(y_pred, y_test) * 100, 2)\n",
    "print(acc_Log)"
   ]
  },
  {
   "cell_type": "code",
   "execution_count": 33,
   "id": "07e2b98e",
   "metadata": {
    "execution": {
     "iopub.execute_input": "2023-01-08T07:54:51.142608Z",
     "iopub.status.busy": "2023-01-08T07:54:51.141819Z",
     "iopub.status.idle": "2023-01-08T07:54:51.150331Z",
     "shell.execute_reply": "2023-01-08T07:54:51.149352Z"
    },
    "papermill": {
     "duration": 0.02218,
     "end_time": "2023-01-08T07:54:51.152285",
     "exception": false,
     "start_time": "2023-01-08T07:54:51.130105",
     "status": "completed"
    },
    "tags": []
   },
   "outputs": [
    {
     "data": {
      "text/plain": [
       "array([[138,  30],\n",
       "       [ 28,  72]])"
      ]
     },
     "execution_count": 33,
     "metadata": {},
     "output_type": "execute_result"
    }
   ],
   "source": [
    "cnf_matrix = metrics.confusion_matrix(y_test, y_pred)\n",
    "cnf_matrix"
   ]
  },
  {
   "cell_type": "code",
   "execution_count": 34,
   "id": "5029bd62",
   "metadata": {
    "execution": {
     "iopub.execute_input": "2023-01-08T07:54:51.176153Z",
     "iopub.status.busy": "2023-01-08T07:54:51.175387Z",
     "iopub.status.idle": "2023-01-08T07:54:51.199791Z",
     "shell.execute_reply": "2023-01-08T07:54:51.198551Z"
    },
    "papermill": {
     "duration": 0.038137,
     "end_time": "2023-01-08T07:54:51.201745",
     "exception": false,
     "start_time": "2023-01-08T07:54:51.163608",
     "status": "completed"
    },
    "tags": []
   },
   "outputs": [
    {
     "name": "stdout",
     "output_type": "stream",
     "text": [
      "79.85\n"
     ]
    }
   ],
   "source": [
    "svc = SVC()\n",
    "svc.fit(X_train, y_train)\n",
    "y_pred = svc.predict(X_test)\n",
    "acc_svc = round(accuracy_score(y_pred, y_test) * 100 , 2)\n",
    "print(acc_svc)"
   ]
  },
  {
   "cell_type": "code",
   "execution_count": 35,
   "id": "761632f0",
   "metadata": {
    "execution": {
     "iopub.execute_input": "2023-01-08T07:54:51.224999Z",
     "iopub.status.busy": "2023-01-08T07:54:51.224284Z",
     "iopub.status.idle": "2023-01-08T07:54:51.249221Z",
     "shell.execute_reply": "2023-01-08T07:54:51.248147Z"
    },
    "papermill": {
     "duration": 0.039128,
     "end_time": "2023-01-08T07:54:51.251720",
     "exception": false,
     "start_time": "2023-01-08T07:54:51.212592",
     "status": "completed"
    },
    "tags": []
   },
   "outputs": [
    {
     "name": "stdout",
     "output_type": "stream",
     "text": [
      "78.36\n"
     ]
    }
   ],
   "source": [
    "linear_svc = LinearSVC()\n",
    "linear_svc.fit(X_train, y_train)\n",
    "y_pred = linear_svc.predict(X_test)\n",
    "acc_linear_svc = round(accuracy_score(y_pred, y_test) * 100, 2)\n",
    "print(acc_linear_svc)"
   ]
  },
  {
   "cell_type": "code",
   "execution_count": 36,
   "id": "69f7c384",
   "metadata": {
    "execution": {
     "iopub.execute_input": "2023-01-08T07:54:51.275743Z",
     "iopub.status.busy": "2023-01-08T07:54:51.274984Z",
     "iopub.status.idle": "2023-01-08T07:54:51.285086Z",
     "shell.execute_reply": "2023-01-08T07:54:51.284019Z"
    },
    "papermill": {
     "duration": 0.024456,
     "end_time": "2023-01-08T07:54:51.287623",
     "exception": false,
     "start_time": "2023-01-08T07:54:51.263167",
     "status": "completed"
    },
    "tags": []
   },
   "outputs": [
    {
     "name": "stdout",
     "output_type": "stream",
     "text": [
      "78.36\n"
     ]
    }
   ],
   "source": [
    "decisiontree = DecisionTreeClassifier()\n",
    "decisiontree.fit(X_train, y_train)\n",
    "y_pred = decisiontree.predict(X_test)\n",
    "acc_decisiontree = round(accuracy_score(y_pred, y_test)* 100, 2)\n",
    "print(acc_decisiontree)"
   ]
  },
  {
   "cell_type": "code",
   "execution_count": 37,
   "id": "1da364ca",
   "metadata": {
    "execution": {
     "iopub.execute_input": "2023-01-08T07:54:51.311832Z",
     "iopub.status.busy": "2023-01-08T07:54:51.311560Z",
     "iopub.status.idle": "2023-01-08T07:54:51.486236Z",
     "shell.execute_reply": "2023-01-08T07:54:51.485278Z"
    },
    "papermill": {
     "duration": 0.189617,
     "end_time": "2023-01-08T07:54:51.489175",
     "exception": false,
     "start_time": "2023-01-08T07:54:51.299558",
     "status": "completed"
    },
    "tags": []
   },
   "outputs": [
    {
     "name": "stdout",
     "output_type": "stream",
     "text": [
      "82.09\n"
     ]
    }
   ],
   "source": [
    "randomforest = RandomForestClassifier()\n",
    "randomforest.fit(X_train, y_train)\n",
    "y_pred = randomforest.predict(X_test)\n",
    "acc_randomforest = round(accuracy_score(y_pred, y_test) * 100, 2)\n",
    "print(acc_randomforest)"
   ]
  },
  {
   "cell_type": "code",
   "execution_count": 38,
   "id": "4419f2ce",
   "metadata": {
    "execution": {
     "iopub.execute_input": "2023-01-08T07:54:51.514368Z",
     "iopub.status.busy": "2023-01-08T07:54:51.514107Z",
     "iopub.status.idle": "2023-01-08T07:54:51.531061Z",
     "shell.execute_reply": "2023-01-08T07:54:51.530032Z"
    },
    "papermill": {
     "duration": 0.03186,
     "end_time": "2023-01-08T07:54:51.533630",
     "exception": false,
     "start_time": "2023-01-08T07:54:51.501770",
     "status": "completed"
    },
    "tags": []
   },
   "outputs": [
    {
     "name": "stdout",
     "output_type": "stream",
     "text": [
      "76.87\n"
     ]
    }
   ],
   "source": [
    "knn = KNeighborsClassifier()\n",
    "knn.fit(X_train, y_train)\n",
    "y_pred = knn.predict(X_test)\n",
    "acc_knn = round(accuracy_score(y_pred, y_test) * 100, 2)\n",
    "print(acc_knn)"
   ]
  },
  {
   "cell_type": "code",
   "execution_count": 39,
   "id": "59052f56",
   "metadata": {
    "execution": {
     "iopub.execute_input": "2023-01-08T07:54:51.559046Z",
     "iopub.status.busy": "2023-01-08T07:54:51.558256Z",
     "iopub.status.idle": "2023-01-08T07:54:51.570042Z",
     "shell.execute_reply": "2023-01-08T07:54:51.568803Z"
    },
    "papermill": {
     "duration": 0.026354,
     "end_time": "2023-01-08T07:54:51.572464",
     "exception": false,
     "start_time": "2023-01-08T07:54:51.546110",
     "status": "completed"
    },
    "tags": []
   },
   "outputs": [
    {
     "name": "stdout",
     "output_type": "stream",
     "text": [
      "76.87\n"
     ]
    }
   ],
   "source": [
    "sgd = SGDClassifier()\n",
    "sgd.fit(X_train, y_train)\n",
    "y_pred - sgd.predict(X_test)\n",
    "acc_sgd = round(accuracy_score(y_pred, y_test) * 100, 2)\n",
    "print(acc_sgd)"
   ]
  },
  {
   "cell_type": "code",
   "execution_count": 40,
   "id": "c7f5196a",
   "metadata": {
    "execution": {
     "iopub.execute_input": "2023-01-08T07:54:51.597626Z",
     "iopub.status.busy": "2023-01-08T07:54:51.596713Z",
     "iopub.status.idle": "2023-01-08T07:54:51.697149Z",
     "shell.execute_reply": "2023-01-08T07:54:51.695894Z"
    },
    "papermill": {
     "duration": 0.115227,
     "end_time": "2023-01-08T07:54:51.699805",
     "exception": false,
     "start_time": "2023-01-08T07:54:51.584578",
     "status": "completed"
    },
    "tags": []
   },
   "outputs": [
    {
     "name": "stdout",
     "output_type": "stream",
     "text": [
      "83.58\n"
     ]
    }
   ],
   "source": [
    "gbc = GradientBoostingClassifier()\n",
    "gbc.fit(X_train, y_train)\n",
    "y_pred = gbc.predict(X_test)\n",
    "acc_gbc = round(accuracy_score(y_pred, y_test) * 100, 2)\n",
    "print(acc_gbc)"
   ]
  },
  {
   "cell_type": "code",
   "execution_count": 41,
   "id": "19d62db8",
   "metadata": {
    "execution": {
     "iopub.execute_input": "2023-01-08T07:54:51.725071Z",
     "iopub.status.busy": "2023-01-08T07:54:51.724592Z",
     "iopub.status.idle": "2023-01-08T07:54:51.735882Z",
     "shell.execute_reply": "2023-01-08T07:54:51.735041Z"
    },
    "papermill": {
     "duration": 0.025703,
     "end_time": "2023-01-08T07:54:51.737758",
     "exception": false,
     "start_time": "2023-01-08T07:54:51.712055",
     "status": "completed"
    },
    "tags": []
   },
   "outputs": [],
   "source": [
    "ids = DS_test['PassengerId']\n",
    "pred = gbc.predict(DS_test.drop('PassengerId', axis=1))\n",
    "\n",
    "output = pd.DataFrame({'PassengerId' : ids, 'Survived' : pred})\n",
    "output.to_csv('GBCsubmission.csv', index=False) # 0.76794"
   ]
  },
  {
   "cell_type": "code",
   "execution_count": 42,
   "id": "8f3e4936",
   "metadata": {
    "execution": {
     "iopub.execute_input": "2023-01-08T07:54:51.762970Z",
     "iopub.status.busy": "2023-01-08T07:54:51.761523Z",
     "iopub.status.idle": "2023-01-08T07:54:51.770341Z",
     "shell.execute_reply": "2023-01-08T07:54:51.769430Z"
    },
    "papermill": {
     "duration": 0.02309,
     "end_time": "2023-01-08T07:54:51.772355",
     "exception": false,
     "start_time": "2023-01-08T07:54:51.749265",
     "status": "completed"
    },
    "tags": []
   },
   "outputs": [],
   "source": [
    "ids = DS_test['PassengerId']\n",
    "pred = sgd.predict(DS_test.drop('PassengerId', axis=1))\n",
    "\n",
    "output = pd.DataFrame({'PassengerId' : ids, 'Survived' : pred})\n",
    "output.to_csv('SGDsubmission.csv', index=False) # 0.73923"
   ]
  },
  {
   "cell_type": "code",
   "execution_count": 43,
   "id": "064f4d77",
   "metadata": {
    "execution": {
     "iopub.execute_input": "2023-01-08T07:54:51.796910Z",
     "iopub.status.busy": "2023-01-08T07:54:51.796608Z",
     "iopub.status.idle": "2023-01-08T07:54:51.816232Z",
     "shell.execute_reply": "2023-01-08T07:54:51.815377Z"
    },
    "papermill": {
     "duration": 0.034087,
     "end_time": "2023-01-08T07:54:51.818173",
     "exception": false,
     "start_time": "2023-01-08T07:54:51.784086",
     "status": "completed"
    },
    "tags": []
   },
   "outputs": [],
   "source": [
    "ids = DS_test['PassengerId']\n",
    "pred = knn.predict(DS_test.drop('PassengerId', axis=1))\n",
    "\n",
    "output = pd.DataFrame({'PassengerId' : ids, 'Survived' : pred})\n",
    "output.to_csv('KNNsubmission.csv', index=False) # 0.77272"
   ]
  },
  {
   "cell_type": "code",
   "execution_count": 44,
   "id": "4301f8c7",
   "metadata": {
    "execution": {
     "iopub.execute_input": "2023-01-08T07:54:51.842820Z",
     "iopub.status.busy": "2023-01-08T07:54:51.842076Z",
     "iopub.status.idle": "2023-01-08T07:54:51.869568Z",
     "shell.execute_reply": "2023-01-08T07:54:51.868724Z"
    },
    "papermill": {
     "duration": 0.041914,
     "end_time": "2023-01-08T07:54:51.871632",
     "exception": false,
     "start_time": "2023-01-08T07:54:51.829718",
     "status": "completed"
    },
    "tags": []
   },
   "outputs": [],
   "source": [
    "ids = DS_test['PassengerId']\n",
    "pred = randomforest.predict(DS_test.drop('PassengerId', axis=1))\n",
    "\n",
    "output = pd.DataFrame({'PassengerId' : ids, 'Survived' : pred})\n",
    "output.to_csv('RFsubmission.csv', index=False)# 0.75358"
   ]
  },
  {
   "cell_type": "code",
   "execution_count": 45,
   "id": "694d2d03",
   "metadata": {
    "execution": {
     "iopub.execute_input": "2023-01-08T07:54:51.896743Z",
     "iopub.status.busy": "2023-01-08T07:54:51.895983Z",
     "iopub.status.idle": "2023-01-08T07:54:51.904570Z",
     "shell.execute_reply": "2023-01-08T07:54:51.903659Z"
    },
    "papermill": {
     "duration": 0.023155,
     "end_time": "2023-01-08T07:54:51.906478",
     "exception": false,
     "start_time": "2023-01-08T07:54:51.883323",
     "status": "completed"
    },
    "tags": []
   },
   "outputs": [],
   "source": [
    "ids = DS_test['PassengerId']\n",
    "pred = decisiontree.predict(DS_test.drop('PassengerId', axis=1))\n",
    "\n",
    "output = pd.DataFrame({'PassengerId' : ids, 'Survived' : pred})\n",
    "output.to_csv('DTsubmission.csv', index=False) # 0.7488"
   ]
  },
  {
   "cell_type": "code",
   "execution_count": 46,
   "id": "9770dafa",
   "metadata": {
    "execution": {
     "iopub.execute_input": "2023-01-08T07:54:51.933904Z",
     "iopub.status.busy": "2023-01-08T07:54:51.933177Z",
     "iopub.status.idle": "2023-01-08T07:54:51.946907Z",
     "shell.execute_reply": "2023-01-08T07:54:51.946072Z"
    },
    "papermill": {
     "duration": 0.029388,
     "end_time": "2023-01-08T07:54:51.948805",
     "exception": false,
     "start_time": "2023-01-08T07:54:51.919417",
     "status": "completed"
    },
    "tags": []
   },
   "outputs": [],
   "source": [
    "ids = DS_test['PassengerId']\n",
    "pred = svc.predict(DS_test.drop('PassengerId', axis=1))\n",
    "\n",
    "output = pd.DataFrame({'PassengerId' : ids, 'Survived' : pred})\n",
    "output.to_csv('SVCsubmission.csv', index=False) # 0.78468"
   ]
  },
  {
   "cell_type": "code",
   "execution_count": 47,
   "id": "ad47dc16",
   "metadata": {
    "execution": {
     "iopub.execute_input": "2023-01-08T07:54:51.974134Z",
     "iopub.status.busy": "2023-01-08T07:54:51.973396Z",
     "iopub.status.idle": "2023-01-08T07:54:51.981841Z",
     "shell.execute_reply": "2023-01-08T07:54:51.981003Z"
    },
    "papermill": {
     "duration": 0.023482,
     "end_time": "2023-01-08T07:54:51.983889",
     "exception": false,
     "start_time": "2023-01-08T07:54:51.960407",
     "status": "completed"
    },
    "tags": []
   },
   "outputs": [],
   "source": [
    "ids = DS_test['PassengerId']\n",
    "pred = linear_svc.predict(DS_test.drop('PassengerId', axis=1))\n",
    "\n",
    "output = pd.DataFrame({'PassengerId' : ids, 'Survived' : pred})\n",
    "output.to_csv('L_SVCsubmission.csv', index=False)"
   ]
  }
 ],
 "metadata": {
  "kernelspec": {
   "display_name": "Python 3",
   "language": "python",
   "name": "python3"
  },
  "language_info": {
   "codemirror_mode": {
    "name": "ipython",
    "version": 3
   },
   "file_extension": ".py",
   "mimetype": "text/x-python",
   "name": "python",
   "nbconvert_exporter": "python",
   "pygments_lexer": "ipython3",
   "version": "3.7.12"
  },
  "papermill": {
   "default_parameters": {},
   "duration": 13.285206,
   "end_time": "2023-01-08T07:54:52.514017",
   "environment_variables": {},
   "exception": null,
   "input_path": "__notebook__.ipynb",
   "output_path": "__notebook__.ipynb",
   "parameters": {},
   "start_time": "2023-01-08T07:54:39.228811",
   "version": "2.3.4"
  }
 },
 "nbformat": 4,
 "nbformat_minor": 5
}
